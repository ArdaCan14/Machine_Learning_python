{
 "cells": [
  {
   "cell_type": "code",
   "execution_count": 1,
   "id": "96300d0f-172b-4405-ac91-c8fd04ebc2d7",
   "metadata": {},
   "outputs": [],
   "source": [
    "import numpy as np\n",
    "import pandas as pd\n",
    "from sklearn.model_selection import train_test_split,ShuffleSplit,GridSearchCV,cross_val_score\n",
    "from sklearn.metrics import mean_squared_error,r2_score\n",
    "import matplotlib.pyplot as plt\n",
    "from sklearn.preprocessing import scale\n",
    "from sklearn import model_selection"
   ]
  },
  {
   "cell_type": "code",
   "execution_count": 2,
   "id": "4877a7cd-3c13-4aa3-94ca-2ddee7bedd01",
   "metadata": {},
   "outputs": [],
   "source": [
    "hit = pd.read_csv(\"Hitters.csv\")\n",
    "df = hit.copy()\n",
    "df = df.dropna()\n",
    "dms = pd.get_dummies(df[[\"League\",\"Division\",\"NewLeague\"]])\n",
    "y = df[\"Salary\"]\n",
    "X_ = df.drop([\"Salary\",\"League\",\"Division\",\"NewLeague\"],axis = 1).astype(\"float64\")\n",
    "X = pd.concat([X_,dms[[\"League_N\",\"Division_W\",\"NewLeague_N\"]]],axis = 1)\n",
    "X_train,X_test,y_train,y_test = train_test_split(X,y,test_size = 0.25,random_state = 42)"
   ]
  },
  {
   "cell_type": "code",
   "execution_count": 6,
   "id": "54bb44b5-c809-4be5-8564-5eb5e1d0df46",
   "metadata": {},
   "outputs": [
    {
     "data": {
      "text/plain": [
       "BaggingRegressor(bootstrap_features=True)"
      ]
     },
     "execution_count": 6,
     "metadata": {},
     "output_type": "execute_result"
    }
   ],
   "source": [
    "from sklearn.ensemble import BaggingRegressor\n",
    "bagged_model = BaggingRegressor(bootstrap_features = True)\n",
    "bagged_model.fit(X_train,y_train)"
   ]
  },
  {
   "cell_type": "code",
   "execution_count": 7,
   "id": "519b8c94-8ae2-499b-b8f1-bacc15fdbf95",
   "metadata": {},
   "outputs": [
    {
     "data": {
      "text/plain": [
       "10"
      ]
     },
     "execution_count": 7,
     "metadata": {},
     "output_type": "execute_result"
    }
   ],
   "source": [
    "bagged_model.n_estimators"
   ]
  },
  {
   "cell_type": "code",
   "execution_count": 9,
   "id": "d1f9d709-0334-4a00-a06f-fe67e8e5bfed",
   "metadata": {
    "collapsed": true,
    "jupyter": {
     "outputs_hidden": true
    },
    "tags": []
   },
   "outputs": [
    {
     "data": {
      "text/plain": [
       "[DecisionTreeRegressor(random_state=1961753808),\n",
       " DecisionTreeRegressor(random_state=1262195226),\n",
       " DecisionTreeRegressor(random_state=1922057988),\n",
       " DecisionTreeRegressor(random_state=1343910323),\n",
       " DecisionTreeRegressor(random_state=861974212),\n",
       " DecisionTreeRegressor(random_state=2006230440),\n",
       " DecisionTreeRegressor(random_state=1689721198),\n",
       " DecisionTreeRegressor(random_state=531275470),\n",
       " DecisionTreeRegressor(random_state=872344952),\n",
       " DecisionTreeRegressor(random_state=703190317)]"
      ]
     },
     "execution_count": 9,
     "metadata": {},
     "output_type": "execute_result"
    }
   ],
   "source": [
    "bagged_model.estimators_"
   ]
  },
  {
   "cell_type": "code",
   "execution_count": 10,
   "id": "54f76de6-4272-435f-9916-ab31c3cf7c74",
   "metadata": {
    "collapsed": true,
    "jupyter": {
     "outputs_hidden": true
    },
    "tags": []
   },
   "outputs": [
    {
     "data": {
      "text/plain": [
       "[array([156,  35,  34,  16,  33,  44, 147, 137, 107, 115,  15,  85, 137,\n",
       "        147,  46, 179, 137,  78,  39, 147,   5, 151,  64, 182, 114,  98,\n",
       "         65, 130, 100, 162, 170, 146,  89, 158, 182,  77, 156, 171, 144,\n",
       "         50, 173, 143, 120, 192, 140, 163,  92, 166,  24, 122,  87, 178,\n",
       "         81,  59,  43,  31,  30,  15,  83,  11,  78,  47,   3,  21,  41,\n",
       "          2,  85,  80, 154, 147,  45,  53, 173, 136, 170,   4, 144, 184,\n",
       "        192, 152, 128,   8,  53,  14,  33,   2,  25, 144,  19, 142, 191,\n",
       "        137,  75,  20, 108, 171, 127, 152, 127, 148, 133, 134,  88, 173,\n",
       "         66, 150, 110,  67, 140,  26,  50,  81, 135, 166,  87, 107,  47,\n",
       "        134, 125, 165,  80, 182, 100, 107,  68,  36,   5, 144,  18,  48,\n",
       "         17,  94,  16, 118, 137, 187,  53,  31, 177, 119,  50, 139,   3,\n",
       "        155,  61,  85,  92,  63, 196, 190,  36, 196, 111, 148,  73, 158,\n",
       "        107, 133, 129, 121,  90, 108,  22, 184,   6, 179, 147, 169, 114,\n",
       "         84, 183,  45, 191, 137, 182, 153,  61,  32, 195,  30, 193,  27,\n",
       "        136,  64,  87, 106,   3, 126, 116, 125,  29,  42,  16, 183, 125,\n",
       "        153,  41]),\n",
       " array([120,   7,  44,  56,  31,  46, 165, 100,  90,  63, 171, 100, 140,\n",
       "        104, 135,  50, 187, 104, 196, 103, 194,  85, 156, 108,   4, 194,\n",
       "        178, 191,  40,  55,  79, 188, 139, 134, 171, 145, 137,  41, 161,\n",
       "          1, 166,  88,  67,  55, 137,  13,  54, 146, 177,  77,  88,  39,\n",
       "         28,  41,  15, 163,  14,  11, 114, 110, 155,  15,  15, 124, 185,\n",
       "         22,  61, 137, 119, 111, 135,  73, 175,  56, 193,  75, 113, 103,\n",
       "        104, 185,  65,  99,  99, 183,  61,  84,  54,   9,  90, 128,  42,\n",
       "         42,  30, 156,  94, 108, 109,  69, 145,  51,  77,  92, 195,  53,\n",
       "        135,  80,  89,  63, 114,  17,   9, 169,   6,  96, 181,  13, 143,\n",
       "         94, 160, 114,  70,  49,  26,  34, 104, 138, 142, 153, 194, 117,\n",
       "         42,  86, 159,  10, 155, 145,  70, 144,  86, 126,  95,  59, 113,\n",
       "         81,  33, 158, 117,   8,  40,  19,  54,  82, 117,  22, 195,  38,\n",
       "         95,  24,  80,  37,  65,  72, 169,  75, 163, 176,  40, 139,  41,\n",
       "         67, 100, 185,  14,  19, 109,  61,  58,  98, 183, 182, 149,  65,\n",
       "         30,  27,   3,  68,  99, 169, 195, 117,  54, 114, 114, 163, 168,\n",
       "         50, 143]),\n",
       " array([ 97,  31, 124,  12,  46,  83,   1,  25, 188, 129,   7, 162, 136,\n",
       "          2,  65, 145, 180, 161,  86,  29,  59,  49,  52,   9,  68,  74,\n",
       "         56,  25, 194, 175,  27, 194, 188,  27, 115,  88, 164,  80, 139,\n",
       "        115,  37,  39,  52,  22, 164,  43,  36,  44,   0, 111,  39, 193,\n",
       "        185, 149,  32,  59, 182,  88,  83,  58, 180, 145, 138,  42, 101,\n",
       "         48, 173,  16, 112,  79, 141, 160,   8, 153, 140, 189,  72,  68,\n",
       "         34,  81,  57,  39,  30,  25, 165, 104, 180,  52, 140, 156, 169,\n",
       "         70, 137, 113, 135, 116, 175, 121, 186, 108, 122, 189,  31,  29,\n",
       "         42,  37, 136,  39, 157, 120, 174, 192, 153,  28,  89, 117,  24,\n",
       "        175,  79, 156,   8,  92,  28, 131, 160,  12, 119, 172,  29,  65,\n",
       "        105,  62,  93, 185, 196,  82,  98, 118,  34,  10,  49,  14,  61,\n",
       "        100, 124, 187, 161, 182, 120,  86, 120, 142, 106,  24, 162,  84,\n",
       "         89, 189, 108,  22, 106, 120, 179, 160, 161, 159,  61, 127,  25,\n",
       "        172,  62, 101,  36,  59,  24,  33,  54,  55,  29,   1,  33, 130,\n",
       "         54, 132, 182, 114, 124,  64, 157, 169,   7,  45, 133,  53,  81,\n",
       "         62, 146]),\n",
       " array([106,  13, 107,  32, 159, 191, 109,  79,  39,  22, 156, 153,  85,\n",
       "        133,  38,  84, 143, 104,  73, 114,  36,  96, 141, 100, 167, 125,\n",
       "         90, 135, 195,  86,  98, 117, 128, 102, 135,  58, 163,  24, 145,\n",
       "        137, 181, 184, 113,  19,  61,  42,  15,  59,  86,  42, 132, 185,\n",
       "          6, 131,  65,  88, 194,  18,   7, 137, 128, 155, 147,  34,  69,\n",
       "        178,  93,  85,  90,  85, 131,  41,  94,  98, 145, 189,  32,  12,\n",
       "         11, 187,  30,  71, 160, 118,  22, 185, 142, 121,  12, 186,  35,\n",
       "        138,  55,  71, 141, 133, 113, 177,  82, 179, 183,  37, 116, 171,\n",
       "        106,  63, 124, 111, 111, 153, 115, 155,  48,  13,  84, 165,  49,\n",
       "        128, 169, 111, 149, 175, 189,   9, 169,  57, 150,  26,  24, 172,\n",
       "         97,  71, 185,  80, 182, 114, 168,  43, 195, 107, 124, 146,  47,\n",
       "         11,  53, 148, 159,  13,   5,  76, 119, 109, 180,  57,  27,  62,\n",
       "        118, 176,  79,  37,  33,   0,   8,  21, 150,  60,  74, 103, 154,\n",
       "         95,  12,  92, 158, 139,  42, 111,   5, 193, 102,  21, 139, 192,\n",
       "        174, 187,  30, 163, 175,  25,  86, 166,  17,  35,  86,  74, 189,\n",
       "        102, 104]),\n",
       " array([136, 153, 187,   5, 162,  17, 106,  16, 148, 107,  94,  29, 103,\n",
       "         18,  97,  43,   4, 123, 172, 105, 169, 156, 121, 164,  12,  39,\n",
       "        190,  11,  94, 119,  27,  42,   2,  46, 183,  20, 122, 147, 157,\n",
       "         74,  22,  31,  99, 165,  44,  80, 186,  61, 129, 142, 173,  30,\n",
       "         83, 193, 192,  65, 180, 170,  53, 162,  53, 172, 143, 148, 122,\n",
       "         43,  18, 142,   5,   1, 157,  19, 187,  48,  23,  46,   8, 176,\n",
       "        163, 163, 190, 112, 148, 107,  75,  23, 168, 149, 138, 123,  99,\n",
       "         65,  29, 114, 105,  17, 118, 160, 148, 136,  54,  94,  10, 184,\n",
       "         45,  88, 185,  21,  40,  23, 179,  58, 151,  55,  72,  50, 115,\n",
       "        142,  52, 177, 167, 146,  56, 179, 126,  58,  93, 127, 118,  17,\n",
       "        157,  40,   2,  21, 164, 146, 173, 189,  30,  38,   1, 129,  73,\n",
       "        167,  53,  30, 162,  76, 116, 167,  12,  87, 103,  86,   6, 172,\n",
       "        139, 151, 171, 129, 148, 154,  43, 186,   8, 179,  46, 175,  21,\n",
       "        108,   2,  78, 128, 101, 148,  18, 122, 121,  58,  22, 155,  76,\n",
       "        112,  43, 149, 117,  86,  74,  80, 128, 141,  88,  78,   9,  13,\n",
       "         47, 194]),\n",
       " array([180,  89,  58,  22, 155,  74,  36, 185, 115,  96,  57,  79,  72,\n",
       "         39, 182,  20, 152, 152, 115,  58, 166, 160, 136, 161,  16,  97,\n",
       "        181, 184, 144,  23, 133, 181,  45, 164,  20, 196, 166,   4, 131,\n",
       "        195, 158,  41,  97, 120, 189, 157, 162, 106, 176, 102, 182,  53,\n",
       "        148, 120,  73,  56, 144, 137,  80, 101,   1,  29, 138,  40, 151,\n",
       "          5,   6, 119, 162, 119,  60,  67,  40,  59,  40,   6,  17,  46,\n",
       "         61,  25,  99, 113,  81,  24,  93,   6, 123,  94,  39, 187, 145,\n",
       "        107,  87, 130, 194,  74,   2, 116,  35, 152,  81, 108, 121, 126,\n",
       "        173,  61, 164,  27, 180,  63, 117, 189, 154, 100, 145,  42,  90,\n",
       "        166,  18, 151, 175, 146, 106,  97,   6, 115, 102,  66, 135,  31,\n",
       "        190,  22, 175, 124,  22, 173, 117, 141, 136, 138, 179,  52,  74,\n",
       "         69, 145,  68,  44,  67, 142,  29,   5,   0, 180, 128, 112, 150,\n",
       "        175, 113,  37, 174,  82,  63,  94,  78, 109, 108, 119, 194,  92,\n",
       "        181,  17,  13, 136, 101,  63, 180, 136,  76, 134, 159,  25,  18,\n",
       "        109,  70,  30,  61, 134, 188, 117, 170,  78,  73, 125, 161, 128,\n",
       "        132,  84]),\n",
       " array([174, 182, 129,  52,  42,  70,  27, 114, 156,  68,  55, 107, 126,\n",
       "         28, 136,  12, 161, 151,  95, 129, 169, 187,  90,  17, 122, 143,\n",
       "        150,  89,  38,  97,  37,  70, 191,  64,  27, 109, 111,  73, 137,\n",
       "        124, 137, 176,  50,  56,  62,  52, 100,  77,  68,  17, 185,  23,\n",
       "        178, 126, 149, 164, 168, 122, 141,  47, 120, 107, 173, 104, 114,\n",
       "        153,   9,   6,  90,   8, 118, 167, 122,  51,  80, 139,  37,  11,\n",
       "        168, 185, 161, 183, 102,  31,  61, 151,  49,  22, 129,  74,  35,\n",
       "        114, 156,  88, 192, 156,  76, 193, 162, 142,  14,  78,  46,  54,\n",
       "         97, 176,  40,  21, 159, 138,  69,  47, 191, 123, 107,  62, 121,\n",
       "         10,  14,  87, 158, 189,  80,  26, 165, 166, 141, 180, 173,  88,\n",
       "        175, 153, 164,  39, 123, 135,  52,   8, 188, 196,  68, 118,   3,\n",
       "         53, 190, 170, 105,  97,  76, 195,  53,  48,  98, 169, 128, 114,\n",
       "        192, 146, 188,  90,  90,  80,  85, 189,  97,  82, 147,   0, 162,\n",
       "        148,  81,  34, 181,  60, 107, 172, 130,  64,  82,  90,  39, 110,\n",
       "        183,  84, 189, 170, 142,  11, 145,  27, 168, 174,  81, 182, 119,\n",
       "         27,  91]),\n",
       " array([ 86,  60, 119,  64,  90, 120,  42, 124, 110, 164,  44,   8, 175,\n",
       "         85, 151, 113,  93,  72, 107, 115, 128,  95, 124,  90,  81,  75,\n",
       "        114,  69, 126,   9, 115,  84, 106,  82, 188,  83, 155, 122, 120,\n",
       "        106, 180, 117,  31,  63,  21,  15, 131,  58,  52,  82,  64, 131,\n",
       "         44, 176, 137, 140,  49, 118,  83, 100,  56, 145, 175,  97,   9,\n",
       "         69, 138,   3, 166, 191, 114,  88,   7,   2, 157,  48,   8, 144,\n",
       "         70,   2, 179, 191,  23,  60, 190,  16, 168, 154, 109, 186, 105,\n",
       "          9,  21, 166, 170,  80, 189,  87, 142,  59,  63,  21, 142, 172,\n",
       "        171, 118, 105,  22, 151, 184,  46,  95,  33,  52, 108,  51, 158,\n",
       "        193, 150, 140,  15, 145, 176,  50, 120, 134, 177, 118,  92,   0,\n",
       "         80, 192, 173, 182,  82,  97,  82,  30,  25,  27,  23, 148, 133,\n",
       "          8,  70, 121,   5,  55,  97,  49,  33, 176, 103,  60, 127,  61,\n",
       "          5,  45, 116,  64,   5,  47,  38, 162,  69, 136, 133, 124,  42,\n",
       "        164, 177,  76,  34, 127,  21,  61,  28, 125,  71, 104,  78, 135,\n",
       "        177, 163,  57,  60, 104,  36,  50, 146, 131, 111,  15, 179,  96,\n",
       "         17,  50]),\n",
       " array([146, 111, 129, 155, 123, 152, 193,  25,  37, 174, 171,  74, 177,\n",
       "         30,  25,  55, 101,  21, 115,  48,  51,  52,  46, 108, 145, 183,\n",
       "         98,  30, 113, 143,  75,  48,  56,  46,  59,  50,  59, 161,   3,\n",
       "        136,  52, 128, 183, 176, 138, 177,  49, 132, 162,  46,  13,  55,\n",
       "        144, 102, 116,  73, 160,  65, 183,  73,  85, 183,   4, 175, 169,\n",
       "        178, 169,  90, 142,  77, 105, 119,  90,  89,  52,  89, 166, 192,\n",
       "        154,   8,  19, 157, 177,  39, 179, 132,  80, 135, 182, 177,  18,\n",
       "        120, 178, 121, 187,  59, 194, 186,   0,  11,  92,  61, 141, 111,\n",
       "        120, 122, 191,  99, 180, 108, 123,  79,  40,   2, 139,  53,  70,\n",
       "         41, 165, 110, 111, 150, 140,  73,  16, 196, 178,  30,  50, 187,\n",
       "        168,   0,  26,  91, 157, 188, 107, 165,  69,  44, 114,  33, 108,\n",
       "         84,  82,  81, 148,   6, 172,  19,  25, 126, 144, 106, 155,  53,\n",
       "        106, 178,  78,  41, 186,  10, 156,  40,  33, 129,  64, 186, 177,\n",
       "         91,  29,  54,   3, 113, 174,  18,   8, 188,  26,   0, 119, 189,\n",
       "        102,  93,  92, 162,  58,  56, 159,  54, 160, 120,  97,  84,  85,\n",
       "        107, 174]),\n",
       " array([ 57,  60, 149, 124,  56,  41, 166, 106,   7,  50,  55,  75, 156,\n",
       "        117, 125,  67, 134,  39, 130,  74, 166, 105, 190, 145, 126,  33,\n",
       "         62, 119, 111, 128,  19,  18,  39,  98, 177, 161, 149,  83,  57,\n",
       "          8, 168,  75,  88,  86,  40, 164,  55, 180,  32,  54,  73, 168,\n",
       "         65,   6,  55,  34, 172, 168, 167, 147,  92, 102, 172, 174,  88,\n",
       "        112, 162,  97, 103,  15, 156,  90,  54, 114, 120, 158, 172, 138,\n",
       "         29,  98, 157,  71, 151, 148,  73,  27,  21, 165, 134, 134, 183,\n",
       "        113,  17,  63,  50,  19,  66,  15, 116,  29, 168, 118,  32, 140,\n",
       "        129, 147,  10, 129, 125, 175, 143, 151,  20,  67, 176, 135, 145,\n",
       "        123, 171,   6, 159,  49,  94, 187, 147, 168, 189, 196,  43, 196,\n",
       "          7,  93,  49, 193,  93,  87, 118,  58,  45, 128, 191, 114, 176,\n",
       "        152, 111,  96,  84,  78, 100, 119, 123, 193, 111, 148, 194,  25,\n",
       "         48, 118, 160, 118, 191,   9,  28, 186, 170,  42, 142,  43, 191,\n",
       "        150,  63,  69,   2, 152,  66, 117,  74, 120,  99,  89,  96, 173,\n",
       "         75, 130,  35, 131, 148,   7,  64,  57,  49,  54,  50,  73,  11,\n",
       "        140, 135])]"
      ]
     },
     "execution_count": 10,
     "metadata": {},
     "output_type": "execute_result"
    }
   ],
   "source": [
    "bagged_model.estimators_samples_"
   ]
  },
  {
   "cell_type": "code",
   "execution_count": 11,
   "id": "63ad06a7-eb10-434e-ad75-e93679c4de98",
   "metadata": {},
   "outputs": [
    {
     "data": {
      "text/plain": [
       "[array([16,  5,  9,  8, 14, 13, 12,  9, 10,  6,  2,  1,  9, 16,  5, 17, 11,\n",
       "         7,  9]),\n",
       " array([13,  9,  1,  7, 14, 16,  8,  7, 10,  5, 13,  1,  7,  2, 16, 10,  9,\n",
       "         0, 13]),\n",
       " array([ 4, 11,  5,  5,  3, 17,  2, 10,  5, 13,  0, 10, 18, 17, 10,  7,  1,\n",
       "        10,  9]),\n",
       " array([10,  1,  0,  8,  3,  0, 17, 12, 10,  7,  9, 12, 18,  4, 11,  4, 17,\n",
       "        13, 10]),\n",
       " array([ 4,  8,  6,  9,  6, 18,  1,  1,  4,  6, 16, 15, 17,  9, 18, 17, 16,\n",
       "         9,  3]),\n",
       " array([ 8,  6, 14,  0,  0,  8, 10,  1,  6, 16,  0,  3,  1,  7, 11,  1,  5,\n",
       "        10,  7]),\n",
       " array([14, 14,  7,  3,  4,  7, 12, 16,  8, 14, 10, 11, 15, 18, 16, 13, 15,\n",
       "        15, 15]),\n",
       " array([14,  9,  9,  6,  1,  7, 18,  5, 16, 10,  8,  8,  8,  4, 13,  5,  6,\n",
       "         6, 10]),\n",
       " array([ 7,  7,  9,  3, 18, 14,  0, 18, 15, 14, 11,  5,  3,  1,  7, 14,  9,\n",
       "         5,  1]),\n",
       " array([13, 13, 10, 14, 18,  6,  0,  6,  1, 18, 15,  5,  9, 14, 17,  3,  4,\n",
       "         8, 12])]"
      ]
     },
     "execution_count": 11,
     "metadata": {},
     "output_type": "execute_result"
    }
   ],
   "source": [
    "bagged_model.estimators_features_"
   ]
  },
  {
   "cell_type": "code",
   "execution_count": 12,
   "id": "b995ae38-7942-41cb-8b64-2f5164ec469c",
   "metadata": {},
   "outputs": [
    {
     "data": {
      "text/plain": [
       "DecisionTreeRegressor(random_state=1961753808)"
      ]
     },
     "execution_count": 12,
     "metadata": {},
     "output_type": "execute_result"
    }
   ],
   "source": [
    "bagged_model.estimators_[0]"
   ]
  },
  {
   "cell_type": "markdown",
   "id": "39045997-9338-4b2c-88cc-9fa16da0b7d6",
   "metadata": {},
   "source": [
    "# Tahmin"
   ]
  },
  {
   "cell_type": "code",
   "execution_count": 13,
   "id": "99bb2808-d865-40f5-a99b-294d20f43546",
   "metadata": {},
   "outputs": [],
   "source": [
    "y_pred = bagged_model.predict(X_test)"
   ]
  },
  {
   "cell_type": "code",
   "execution_count": 14,
   "id": "90ff1fde-f0b1-4833-9d03-f7c110c5f0a0",
   "metadata": {},
   "outputs": [
    {
     "data": {
      "text/plain": [
       "351.1638455761843"
      ]
     },
     "execution_count": 14,
     "metadata": {},
     "output_type": "execute_result"
    }
   ],
   "source": [
    "np.sqrt(mean_squared_error(y_test,y_pred))"
   ]
  },
  {
   "cell_type": "code",
   "execution_count": 15,
   "id": "7efbf3ee-25d1-43df-8d3a-7c2fb780b95c",
   "metadata": {},
   "outputs": [],
   "source": [
    "iki_y_pred = bagged_model.estimators_[1].fit(X_train,y_train).predict(X_test)"
   ]
  },
  {
   "cell_type": "code",
   "execution_count": 16,
   "id": "7f216e42-5677-402a-9333-6371829650c4",
   "metadata": {},
   "outputs": [
    {
     "data": {
      "text/plain": [
       "351.1638455761843"
      ]
     },
     "execution_count": 16,
     "metadata": {},
     "output_type": "execute_result"
    }
   ],
   "source": [
    "np.sqrt(mean_squared_error(y_test,y_pred))"
   ]
  },
  {
   "cell_type": "code",
   "execution_count": 17,
   "id": "12af01de-405c-4481-85eb-5ac08e8fa15f",
   "metadata": {},
   "outputs": [],
   "source": [
    "iki_y_pred = bagged_model.estimators_[6].fit(X_train,y_train).predict(X_test)"
   ]
  },
  {
   "cell_type": "code",
   "execution_count": 18,
   "id": "fafe5b59-7cde-48aa-866b-b6134b0fd239",
   "metadata": {},
   "outputs": [
    {
     "data": {
      "text/plain": [
       "351.1638455761843"
      ]
     },
     "execution_count": 18,
     "metadata": {},
     "output_type": "execute_result"
    }
   ],
   "source": [
    "np.sqrt(mean_squared_error(y_test,y_pred))"
   ]
  },
  {
   "cell_type": "markdown",
   "id": "fb600cf8-ced8-4da1-8e8a-a78c3c754812",
   "metadata": {},
   "source": [
    "# Model Tuning"
   ]
  },
  {
   "cell_type": "code",
   "execution_count": 19,
   "id": "7aad8274-3524-415b-8614-639a56678c12",
   "metadata": {},
   "outputs": [
    {
     "data": {
      "text/plain": [
       "BaggingRegressor(bootstrap_features=True)"
      ]
     },
     "execution_count": 19,
     "metadata": {},
     "output_type": "execute_result"
    }
   ],
   "source": [
    "bagged_model = BaggingRegressor(bootstrap_features = True)\n",
    "bagged_model.fit(X_train,y_train)"
   ]
  },
  {
   "cell_type": "code",
   "execution_count": 21,
   "id": "61144b10-393a-4ea6-be24-78c428162372",
   "metadata": {},
   "outputs": [],
   "source": [
    "bagged_params = {\"n_estimators\":range(2,20)}"
   ]
  },
  {
   "cell_type": "code",
   "execution_count": 22,
   "id": "d9f454ec-b65a-4a42-b70c-096fc8c7aff8",
   "metadata": {},
   "outputs": [],
   "source": [
    "bagged_cv_model = GridSearchCV(bagged_model,bagged_params,cv = 10)"
   ]
  },
  {
   "cell_type": "code",
   "execution_count": 24,
   "id": "5cdc1f0c-0978-47bb-8aa4-97e88d060e00",
   "metadata": {},
   "outputs": [
    {
     "data": {
      "text/plain": [
       "GridSearchCV(cv=10, estimator=BaggingRegressor(bootstrap_features=True),\n",
       "             param_grid={'n_estimators': range(2, 20)})"
      ]
     },
     "execution_count": 24,
     "metadata": {},
     "output_type": "execute_result"
    }
   ],
   "source": [
    "bagged_cv_model.fit(X_train,y_train)"
   ]
  },
  {
   "cell_type": "code",
   "execution_count": 25,
   "id": "529b42db-f4d1-411c-9c85-8be1a2086667",
   "metadata": {},
   "outputs": [
    {
     "data": {
      "text/plain": [
       "{'n_estimators': 16}"
      ]
     },
     "execution_count": 25,
     "metadata": {},
     "output_type": "execute_result"
    }
   ],
   "source": [
    "bagged_cv_model.best_params_"
   ]
  },
  {
   "cell_type": "code",
   "execution_count": 26,
   "id": "92e58f8a-265e-4f01-b79a-be219d97762f",
   "metadata": {},
   "outputs": [],
   "source": [
    "bagged_tuned = BaggingRegressor(n_estimators = 16,random_state = 45)"
   ]
  },
  {
   "cell_type": "code",
   "execution_count": 27,
   "id": "98b37910-1f7e-4b5c-8b04-f2dbc7b4716d",
   "metadata": {},
   "outputs": [
    {
     "data": {
      "text/plain": [
       "BaggingRegressor(n_estimators=16, random_state=45)"
      ]
     },
     "execution_count": 27,
     "metadata": {},
     "output_type": "execute_result"
    }
   ],
   "source": [
    "bagged_tuned.fit(X_train,y_train)"
   ]
  },
  {
   "cell_type": "code",
   "execution_count": 29,
   "id": "c606572b-7302-491e-9984-1dd54994ac76",
   "metadata": {},
   "outputs": [
    {
     "data": {
      "text/plain": [
       "343.8174114256221"
      ]
     },
     "execution_count": 29,
     "metadata": {},
     "output_type": "execute_result"
    }
   ],
   "source": [
    "y_pred = bagged_tuned.predict(X_test)\n",
    "np.sqrt(mean_squared_error(y_test,y_pred))"
   ]
  },
  {
   "cell_type": "code",
   "execution_count": null,
   "id": "3beccd08-dfba-4429-af19-541254bab664",
   "metadata": {},
   "outputs": [],
   "source": []
  }
 ],
 "metadata": {
  "kernelspec": {
   "display_name": "Python 3",
   "language": "python",
   "name": "python3"
  },
  "language_info": {
   "codemirror_mode": {
    "name": "ipython",
    "version": 3
   },
   "file_extension": ".py",
   "mimetype": "text/x-python",
   "name": "python",
   "nbconvert_exporter": "python",
   "pygments_lexer": "ipython3",
   "version": "3.8.8"
  }
 },
 "nbformat": 4,
 "nbformat_minor": 5
}
