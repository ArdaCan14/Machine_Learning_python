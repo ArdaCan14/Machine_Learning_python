{
 "cells": [
  {
   "cell_type": "code",
   "execution_count": 1,
   "id": "ac445c4f-2071-4574-a438-aac9c8b4b95b",
   "metadata": {},
   "outputs": [],
   "source": [
    "import numpy as np\n",
    "import pandas as pd\n",
    "from sklearn.model_selection import train_test_split,ShuffleSplit,GridSearchCV,cross_val_score\n",
    "from sklearn.metrics import mean_squared_error,r2_score\n",
    "import matplotlib.pyplot as plt\n",
    "from sklearn.preprocessing import scale\n",
    "from sklearn import model_selection"
   ]
  },
  {
   "cell_type": "code",
   "execution_count": 3,
   "id": "6517e40a-f6ef-43a2-84fe-916d33cf8113",
   "metadata": {},
   "outputs": [],
   "source": [
    "hit = pd.read_csv(\"Hitters.csv\")\n",
    "df = hit.copy()\n",
    "df = df.dropna()\n",
    "dms = pd.get_dummies(df[[\"League\",\"Division\",\"NewLeague\"]])\n",
    "y = df[\"Salary\"]\n",
    "X_ = df.drop([\"Salary\",\"League\",\"Division\",\"NewLeague\"],axis = 1).astype(\"float64\")\n",
    "X = pd.concat([X_,dms[[\"League_N\",\"Division_W\",\"NewLeague_N\"]]],axis = 1)\n",
    "X_train,X_test,y_train,y_test = train_test_split(X,y,test_size = 0.25,random_state = 42)"
   ]
  },
  {
   "cell_type": "code",
   "execution_count": 4,
   "id": "d12356d1-8c33-4a9c-9da4-02a5b7271b96",
   "metadata": {},
   "outputs": [],
   "source": [
    "from sklearn.ensemble import RandomForestRegressor"
   ]
  },
  {
   "cell_type": "code",
   "execution_count": 5,
   "id": "613a51cf-d97a-4d0f-846a-b65bb0b30365",
   "metadata": {},
   "outputs": [],
   "source": [
    "rf_model = RandomForestRegressor(random_state = 42)"
   ]
  },
  {
   "cell_type": "code",
   "execution_count": 6,
   "id": "6cc5ceb7-af35-41a6-8f6a-fa421136f537",
   "metadata": {},
   "outputs": [
    {
     "data": {
      "text/plain": [
       "RandomForestRegressor(random_state=42)"
      ]
     },
     "execution_count": 6,
     "metadata": {},
     "output_type": "execute_result"
    }
   ],
   "source": [
    "rf_model.fit(X_train,y_train)"
   ]
  },
  {
   "cell_type": "code",
   "execution_count": 12,
   "id": "0cffce86-9fbe-4126-824c-7599bce5ef76",
   "metadata": {
    "tags": []
   },
   "outputs": [
    {
     "data": {
      "text/plain": [
       "RandomForestRegressor(random_state=42)"
      ]
     },
     "execution_count": 12,
     "metadata": {},
     "output_type": "execute_result"
    }
   ],
   "source": [
    "rf_model.fit(X_train,y_train)"
   ]
  },
  {
   "cell_type": "markdown",
   "id": "2958ced0-dbef-4e06-ba2c-ec71f7af49d7",
   "metadata": {},
   "source": [
    "# Tahmin"
   ]
  },
  {
   "cell_type": "code",
   "execution_count": 13,
   "id": "fb24d38b-7d80-4836-9c14-2021025e35ca",
   "metadata": {},
   "outputs": [
    {
     "data": {
      "text/plain": [
       "array([ 738.69167,  913.51164, 1181.145  ,  139.65167,  634.60833,\n",
       "        357.71167,  196.535  ,  115.295  ,  730.72833,  474.68333,\n",
       "        813.58167,  828.114  ,  510.1    ,  187.07   ,  354.625  ,\n",
       "        998.59165,  880.67237,  102.845  ,  811.195  ,  270.9    ,\n",
       "        379.16667,  882.34834,  703.28332,  689.4867 ,  381.375  ,\n",
       "         80.245  ,  885.19739,  354.075  ,  750.51666,   96.48167,\n",
       "         89.32   ,  573.115  ,  493.50006,  224.925  ,  256.63168,\n",
       "        884.08665, 1365.18689,  214.265  ,  118.87   ,  505.91668,\n",
       "         85.36   ,  128.15   ,  640.29833,  699.525  , 1370.59475,\n",
       "        855.49995,  491.26667,  103.06   ,  179.25   ,  761.35333,\n",
       "        836.40069,  576.96667,  735.95833,  188.545  ,  102.07   ,\n",
       "        820.28497,  648.16667,  708.12498,  212.02003, 1384.87022,\n",
       "       1151.56766,  551.675  ,  736.58333,  465.9    ,  593.03333,\n",
       "         78.565  ])"
      ]
     },
     "execution_count": 13,
     "metadata": {},
     "output_type": "execute_result"
    }
   ],
   "source": [
    "rf_model.predict(X_test)"
   ]
  },
  {
   "cell_type": "code",
   "execution_count": 14,
   "id": "1f9fd8e3-b38b-4869-9da4-0e0525b8a9ed",
   "metadata": {},
   "outputs": [],
   "source": [
    "y_pred = rf_model.predict(X_test)"
   ]
  },
  {
   "cell_type": "code",
   "execution_count": 16,
   "id": "73e05e05-3cbe-47b4-8b91-64bc6e29ed89",
   "metadata": {},
   "outputs": [
    {
     "data": {
      "text/plain": [
       "344.8191624908484"
      ]
     },
     "execution_count": 16,
     "metadata": {},
     "output_type": "execute_result"
    }
   ],
   "source": [
    "np.sqrt(mean_squared_error(y_test,y_pred))"
   ]
  },
  {
   "cell_type": "markdown",
   "id": "bac5e8a9-0956-411e-a26d-826616199812",
   "metadata": {},
   "source": [
    "# Model Tuning"
   ]
  },
  {
   "cell_type": "code",
   "execution_count": 17,
   "id": "041cec42-2481-416b-9037-42caa87044c7",
   "metadata": {},
   "outputs": [],
   "source": [
    "rf_params = {\"max_depth\":list(range(1,10)),\n",
    "            \"max_features\": [3,5,10,15],\n",
    "            \"n_estimators\": [100,200,500,1000,2000]}"
   ]
  },
  {
   "cell_type": "code",
   "execution_count": 18,
   "id": "540cc5ef-f241-402d-9ab2-4d936b2e812d",
   "metadata": {},
   "outputs": [],
   "source": [
    "rf_model = RandomForestRegressor(random_state = 42)"
   ]
  },
  {
   "cell_type": "code",
   "execution_count": 19,
   "id": "b9abab16-d4c0-47ce-af51-52d958f72dd3",
   "metadata": {},
   "outputs": [],
   "source": [
    "rf_cv_model = GridSearchCV(rf_model,rf_params,\n",
    "                           cv = 10,n_jobs = -1)"
   ]
  },
  {
   "cell_type": "code",
   "execution_count": 20,
   "id": "f62b86de-b0ab-492b-9e6f-2f6f48b7c994",
   "metadata": {},
   "outputs": [
    {
     "data": {
      "text/plain": [
       "GridSearchCV(cv=10, estimator=RandomForestRegressor(random_state=42), n_jobs=-1,\n",
       "             param_grid={'max_depth': [1, 2, 3, 4, 5, 6, 7, 8, 9],\n",
       "                         'max_features': [3, 5, 10, 15],\n",
       "                         'n_estimators': [100, 200, 500, 1000, 2000]})"
      ]
     },
     "execution_count": 20,
     "metadata": {},
     "output_type": "execute_result"
    }
   ],
   "source": [
    "rf_cv_model.fit(X_train,y_train)"
   ]
  },
  {
   "cell_type": "code",
   "execution_count": 21,
   "id": "6ce05b58-e804-4b35-8f9a-782c6acb62a7",
   "metadata": {},
   "outputs": [
    {
     "data": {
      "text/plain": [
       "{'max_depth': 8, 'max_features': 3, 'n_estimators': 200}"
      ]
     },
     "execution_count": 21,
     "metadata": {},
     "output_type": "execute_result"
    }
   ],
   "source": [
    "rf_cv_model.best_params_"
   ]
  },
  {
   "cell_type": "code",
   "execution_count": 22,
   "id": "05e27d2c-76e3-4f79-8f87-c4a31a4b0441",
   "metadata": {},
   "outputs": [],
   "source": [
    "rf_tuned = RandomForestRegressor(max_depth = 8,max_features = 3,n_estimators = 200)"
   ]
  },
  {
   "cell_type": "code",
   "execution_count": 25,
   "id": "a0acbaca-8e7a-4461-921f-970b8bfc0964",
   "metadata": {},
   "outputs": [
    {
     "data": {
      "text/plain": [
       "RandomForestRegressor(max_depth=8, max_features=3, n_estimators=200)"
      ]
     },
     "execution_count": 25,
     "metadata": {},
     "output_type": "execute_result"
    }
   ],
   "source": [
    "rf_tuned.fit(X_train,y_train)"
   ]
  },
  {
   "cell_type": "code",
   "execution_count": 26,
   "id": "ac7da9d6-3216-4a28-8ee3-ae1b78c74321",
   "metadata": {},
   "outputs": [],
   "source": [
    "y_pred = rf_tuned.predict(X_test)"
   ]
  },
  {
   "cell_type": "code",
   "execution_count": 27,
   "id": "c63b02a1-b605-4079-88a7-934f30d50c17",
   "metadata": {},
   "outputs": [
    {
     "data": {
      "text/plain": [
       "347.6596726825817"
      ]
     },
     "execution_count": 27,
     "metadata": {},
     "output_type": "execute_result"
    }
   ],
   "source": [
    "np.sqrt(mean_squared_error(y_test,y_pred))"
   ]
  },
  {
   "cell_type": "code",
   "execution_count": 29,
   "id": "4a5ce027-fb3a-4ba5-998c-82eb47bfcb3c",
   "metadata": {},
   "outputs": [],
   "source": [
    "Importance = pd.DataFrame({\"Importance\" : rf_tuned.feature_importances_*100},\n",
    "                          index = X_train.columns)"
   ]
  },
  {
   "cell_type": "code",
   "execution_count": 31,
   "id": "08b771c5-fe0f-4c63-8a19-051790380197",
   "metadata": {},
   "outputs": [
    {
     "data": {
      "text/plain": [
       "Text(0.5, 0, 'Değişken Önem Düzeyleri')"
      ]
     },
     "execution_count": 31,
     "metadata": {},
     "output_type": "execute_result"
    },
    {
     "data": {
      "image/png": "[encoded data removed]",
      "text/plain": [
       "<Figure size 432x288 with 1 Axes>"
      ]
     },
     "metadata": {
      "needs_background": "light"
     },
     "output_type": "display_data"
    }
   ],
   "source": [
    "Importance.sort_values(by = \"Importance\",axis = 0,ascending = True).plot(kind = \"barh\",\n",
    "                                                                        color = \"r\")\n",
    "\n",
    "plt.xlabel(\"Değişken Önem Düzeyleri\")"
   ]
  },
  {
   "cell_type": "code",
   "execution_count": null,
   "id": "31033df0-dbdb-42db-821f-3c4d7b618daa",
   "metadata": {},
   "outputs": [],
   "source": []
  }
 ],
 "metadata": {
  "kernelspec": {
   "display_name": "Python 3",
   "language": "python",
   "name": "python3"
  },
  "language_info": {
   "codemirror_mode": {
    "name": "ipython",
    "version": 3
   },
   "file_extension": ".py",
   "mimetype": "text/x-python",
   "name": "python",
   "nbconvert_exporter": "python",
   "pygments_lexer": "ipython3",
   "version": "3.8.8"
  }
 },
 "nbformat": 4,
 "nbformat_minor": 5
}
