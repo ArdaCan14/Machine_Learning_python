{
 "cells": [
  {
   "cell_type": "markdown",
   "id": "163c37a3-01d7-4e94-b52e-d8138d9ae45a",
   "metadata": {},
   "source": [
    "# Lasso Regresyon\n",
    "# Model"
   ]
  },
  {
   "cell_type": "code",
   "execution_count": 2,
   "id": "270f81ea-04f6-4035-92fa-d2dd31a2ef1b",
   "metadata": {},
   "outputs": [],
   "source": [
    "import numpy as np\n",
    "import pandas as pd\n",
    "from sklearn.model_selection import train_test_split, cross_val_score, cross_val_predict\n",
    "hit = pd.read_csv(\"Hitters.csv\")\n",
    "df = hit.copy()\n",
    "df = df.dropna()\n",
    "dms = pd.get_dummies(df[[\"League\",\"Division\",\"NewLeague\"]])\n",
    "y = df[\"Salary\"]\n",
    "X_ = df.drop([\"Salary\",\"League\",\"Division\",\"NewLeague\"],axis = 1).astype(\"float64\")\n",
    "X = pd.concat([X_,dms[[\"League_N\",\"Division_W\",\"NewLeague_N\"]]],axis = 1)\n",
    "X_train,X_test,y_train,y_test = train_test_split(X,y,test_size = 0.25,random_state = 42)"
   ]
  },
  {
   "cell_type": "code",
   "execution_count": 3,
   "id": "0e462c31-c3f0-471c-ad2d-0fec45dca405",
   "metadata": {},
   "outputs": [],
   "source": [
    "from sklearn.linear_model import Lasso"
   ]
  },
  {
   "cell_type": "code",
   "execution_count": 4,
   "id": "c54387b3-afca-4bc6-82c2-0dcfccc8f47b",
   "metadata": {},
   "outputs": [
    {
     "name": "stderr",
     "output_type": "stream",
     "text": [
      "C:\\Users\\ADMIN\\anaconda3\\lib\\site-packages\\sklearn\\linear_model\\_coordinate_descent.py:530: ConvergenceWarning: Objective did not converge. You might want to increase the number of iterations. Duality gap: 8249174.751388074, tolerance: 3898.6869563806586\n",
      "  model = cd_fast.enet_coordinate_descent(\n"
     ]
    }
   ],
   "source": [
    "lasso_model = Lasso(alpha = 0.1).fit(X_train,y_train)"
   ]
  },
  {
   "cell_type": "code",
   "execution_count": 5,
   "id": "a41b23f9-facb-416a-b63b-549da077d901",
   "metadata": {},
   "outputs": [
    {
     "data": {
      "text/plain": [
       "Lasso(alpha=0.1)"
      ]
     },
     "execution_count": 5,
     "metadata": {},
     "output_type": "execute_result"
    }
   ],
   "source": [
    "lasso_model"
   ]
  },
  {
   "cell_type": "code",
   "execution_count": 6,
   "id": "e56f912c-d681-41bd-be4c-17f7617fbba3",
   "metadata": {},
   "outputs": [
    {
     "data": {
      "text/plain": [
       "array([-1.72206506e+00,  8.56210197e+00,  6.91175137e+00, -3.13240128e+00,\n",
       "       -2.00771676e+00,  5.36159035e+00,  8.86871593e+00, -1.69520371e-01,\n",
       "       -5.58121413e-02, -3.53962588e-01,  1.70961000e+00,  6.40603469e-01,\n",
       "       -6.58519895e-01,  2.60093222e-01,  2.78717030e-01, -5.92690965e-01,\n",
       "        1.12659630e+02, -9.99652090e+01, -4.81289395e+01])"
      ]
     },
     "execution_count": 6,
     "metadata": {},
     "output_type": "execute_result"
    }
   ],
   "source": [
    "lasso_model.coef_"
   ]
  },
  {
   "cell_type": "code",
   "execution_count": 7,
   "id": "c8ea9331-3723-4740-9ca0-2ed1fd23cab8",
   "metadata": {},
   "outputs": [
    {
     "name": "stderr",
     "output_type": "stream",
     "text": [
      "C:\\Users\\ADMIN\\anaconda3\\lib\\site-packages\\sklearn\\linear_model\\_coordinate_descent.py:530: ConvergenceWarning: Objective did not converge. You might want to increase the number of iterations. Duality gap: 5469.558741405606, tolerance: 3898.6869563806586\n",
      "  model = cd_fast.enet_coordinate_descent(\n",
      "C:\\Users\\ADMIN\\anaconda3\\lib\\site-packages\\sklearn\\linear_model\\_coordinate_descent.py:530: ConvergenceWarning: Objective did not converge. You might want to increase the number of iterations. Duality gap: 6540.147679891437, tolerance: 3898.6869563806586\n",
      "  model = cd_fast.enet_coordinate_descent(\n",
      "C:\\Users\\ADMIN\\anaconda3\\lib\\site-packages\\sklearn\\linear_model\\_coordinate_descent.py:530: ConvergenceWarning: Objective did not converge. You might want to increase the number of iterations. Duality gap: 4001.756137393415, tolerance: 3898.6869563806586\n",
      "  model = cd_fast.enet_coordinate_descent(\n",
      "C:\\Users\\ADMIN\\anaconda3\\lib\\site-packages\\sklearn\\linear_model\\_coordinate_descent.py:530: ConvergenceWarning: Objective did not converge. You might want to increase the number of iterations. Duality gap: 5357.774935662746, tolerance: 3898.6869563806586\n",
      "  model = cd_fast.enet_coordinate_descent(\n",
      "C:\\Users\\ADMIN\\anaconda3\\lib\\site-packages\\sklearn\\linear_model\\_coordinate_descent.py:530: ConvergenceWarning: Objective did not converge. You might want to increase the number of iterations. Duality gap: 5543.611320514232, tolerance: 3898.6869563806586\n",
      "  model = cd_fast.enet_coordinate_descent(\n",
      "C:\\Users\\ADMIN\\anaconda3\\lib\\site-packages\\sklearn\\linear_model\\_coordinate_descent.py:530: ConvergenceWarning: Objective did not converge. You might want to increase the number of iterations. Duality gap: 38977.9021153152, tolerance: 3898.6869563806586\n",
      "  model = cd_fast.enet_coordinate_descent(\n",
      "C:\\Users\\ADMIN\\anaconda3\\lib\\site-packages\\sklearn\\linear_model\\_coordinate_descent.py:530: ConvergenceWarning: Objective did not converge. You might want to increase the number of iterations. Duality gap: 4436895.41574576, tolerance: 3898.6869563806586\n",
      "  model = cd_fast.enet_coordinate_descent(\n",
      "C:\\Users\\ADMIN\\anaconda3\\lib\\site-packages\\sklearn\\linear_model\\_coordinate_descent.py:530: ConvergenceWarning: Objective did not converge. You might want to increase the number of iterations. Duality gap: 6555245.313880922, tolerance: 3898.6869563806586\n",
      "  model = cd_fast.enet_coordinate_descent(\n",
      "C:\\Users\\ADMIN\\anaconda3\\lib\\site-packages\\sklearn\\linear_model\\_coordinate_descent.py:530: ConvergenceWarning: Objective did not converge. You might want to increase the number of iterations. Duality gap: 7517635.389993008, tolerance: 3898.6869563806586\n",
      "  model = cd_fast.enet_coordinate_descent(\n",
      "C:\\Users\\ADMIN\\anaconda3\\lib\\site-packages\\sklearn\\linear_model\\_coordinate_descent.py:530: ConvergenceWarning: Objective did not converge. You might want to increase the number of iterations. Duality gap: 7913116.552938912, tolerance: 3898.6869563806586\n",
      "  model = cd_fast.enet_coordinate_descent(\n",
      "C:\\Users\\ADMIN\\anaconda3\\lib\\site-packages\\sklearn\\linear_model\\_coordinate_descent.py:530: ConvergenceWarning: Objective did not converge. You might want to increase the number of iterations. Duality gap: 8063057.6660153745, tolerance: 3898.6869563806586\n",
      "  model = cd_fast.enet_coordinate_descent(\n",
      "C:\\Users\\ADMIN\\anaconda3\\lib\\site-packages\\sklearn\\linear_model\\_coordinate_descent.py:530: ConvergenceWarning: Objective did not converge. You might want to increase the number of iterations. Duality gap: 8147851.972007659, tolerance: 3898.6869563806586\n",
      "  model = cd_fast.enet_coordinate_descent(\n",
      "C:\\Users\\ADMIN\\anaconda3\\lib\\site-packages\\sklearn\\linear_model\\_coordinate_descent.py:530: ConvergenceWarning: Objective did not converge. You might want to increase the number of iterations. Duality gap: 8195503.925140623, tolerance: 3898.6869563806586\n",
      "  model = cd_fast.enet_coordinate_descent(\n",
      "C:\\Users\\ADMIN\\anaconda3\\lib\\site-packages\\sklearn\\linear_model\\_coordinate_descent.py:530: ConvergenceWarning: Objective did not converge. You might want to increase the number of iterations. Duality gap: 8222772.970408627, tolerance: 3898.6869563806586\n",
      "  model = cd_fast.enet_coordinate_descent(\n",
      "C:\\Users\\ADMIN\\anaconda3\\lib\\site-packages\\sklearn\\linear_model\\_coordinate_descent.py:530: ConvergenceWarning: Objective did not converge. You might want to increase the number of iterations. Duality gap: 8238618.0611521145, tolerance: 3898.6869563806586\n",
      "  model = cd_fast.enet_coordinate_descent(\n",
      "C:\\Users\\ADMIN\\anaconda3\\lib\\site-packages\\sklearn\\linear_model\\_coordinate_descent.py:530: ConvergenceWarning: Objective did not converge. You might want to increase the number of iterations. Duality gap: 8247931.056261462, tolerance: 3898.6869563806586\n",
      "  model = cd_fast.enet_coordinate_descent(\n",
      "C:\\Users\\ADMIN\\anaconda3\\lib\\site-packages\\sklearn\\linear_model\\_coordinate_descent.py:530: ConvergenceWarning: Objective did not converge. You might want to increase the number of iterations. Duality gap: 8254112.783082797, tolerance: 3898.6869563806586\n",
      "  model = cd_fast.enet_coordinate_descent(\n",
      "C:\\Users\\ADMIN\\anaconda3\\lib\\site-packages\\sklearn\\linear_model\\_coordinate_descent.py:530: ConvergenceWarning: Objective did not converge. You might want to increase the number of iterations. Duality gap: 8256643.474169168, tolerance: 3898.6869563806586\n",
      "  model = cd_fast.enet_coordinate_descent(\n",
      "C:\\Users\\ADMIN\\anaconda3\\lib\\site-packages\\sklearn\\linear_model\\_coordinate_descent.py:530: ConvergenceWarning: Objective did not converge. You might want to increase the number of iterations. Duality gap: 8256663.517485474, tolerance: 3898.6869563806586\n",
      "  model = cd_fast.enet_coordinate_descent(\n",
      "C:\\Users\\ADMIN\\anaconda3\\lib\\site-packages\\sklearn\\linear_model\\_coordinate_descent.py:530: ConvergenceWarning: Objective did not converge. You might want to increase the number of iterations. Duality gap: 8255732.406295827, tolerance: 3898.6869563806586\n",
      "  model = cd_fast.enet_coordinate_descent(\n",
      "C:\\Users\\ADMIN\\anaconda3\\lib\\site-packages\\sklearn\\linear_model\\_coordinate_descent.py:530: ConvergenceWarning: Objective did not converge. You might want to increase the number of iterations. Duality gap: 8254488.032216595, tolerance: 3898.6869563806586\n",
      "  model = cd_fast.enet_coordinate_descent(\n",
      "C:\\Users\\ADMIN\\anaconda3\\lib\\site-packages\\sklearn\\linear_model\\_coordinate_descent.py:530: ConvergenceWarning: Objective did not converge. You might want to increase the number of iterations. Duality gap: 8253238.172401871, tolerance: 3898.6869563806586\n",
      "  model = cd_fast.enet_coordinate_descent(\n",
      "C:\\Users\\ADMIN\\anaconda3\\lib\\site-packages\\sklearn\\linear_model\\_coordinate_descent.py:530: ConvergenceWarning: Objective did not converge. You might want to increase the number of iterations. Duality gap: 8252116.626715354, tolerance: 3898.6869563806586\n",
      "  model = cd_fast.enet_coordinate_descent(\n",
      "C:\\Users\\ADMIN\\anaconda3\\lib\\site-packages\\sklearn\\linear_model\\_coordinate_descent.py:530: ConvergenceWarning: Objective did not converge. You might want to increase the number of iterations. Duality gap: 8251167.599148588, tolerance: 3898.6869563806586\n",
      "  model = cd_fast.enet_coordinate_descent(\n",
      "C:\\Users\\ADMIN\\anaconda3\\lib\\site-packages\\sklearn\\linear_model\\_coordinate_descent.py:530: ConvergenceWarning: Objective did not converge. You might want to increase the number of iterations. Duality gap: 8250392.2264994, tolerance: 3898.6869563806586\n",
      "  model = cd_fast.enet_coordinate_descent(\n",
      "C:\\Users\\ADMIN\\anaconda3\\lib\\site-packages\\sklearn\\linear_model\\_coordinate_descent.py:530: ConvergenceWarning: Objective did not converge. You might want to increase the number of iterations. Duality gap: 8249772.805943215, tolerance: 3898.6869563806586\n",
      "  model = cd_fast.enet_coordinate_descent(\n",
      "C:\\Users\\ADMIN\\anaconda3\\lib\\site-packages\\sklearn\\linear_model\\_coordinate_descent.py:530: ConvergenceWarning: Objective did not converge. You might want to increase the number of iterations. Duality gap: 8249285.457095979, tolerance: 3898.6869563806586\n",
      "  model = cd_fast.enet_coordinate_descent(\n",
      "C:\\Users\\ADMIN\\anaconda3\\lib\\site-packages\\sklearn\\linear_model\\_coordinate_descent.py:530: ConvergenceWarning: Objective did not converge. You might want to increase the number of iterations. Duality gap: 8248906.058581397, tolerance: 3898.6869563806586\n",
      "  model = cd_fast.enet_coordinate_descent(\n",
      "C:\\Users\\ADMIN\\anaconda3\\lib\\site-packages\\sklearn\\linear_model\\_coordinate_descent.py:530: ConvergenceWarning: Objective did not converge. You might want to increase the number of iterations. Duality gap: 8248612.895175011, tolerance: 3898.6869563806586\n",
      "  model = cd_fast.enet_coordinate_descent(\n",
      "C:\\Users\\ADMIN\\anaconda3\\lib\\site-packages\\sklearn\\linear_model\\_coordinate_descent.py:530: ConvergenceWarning: Objective did not converge. You might want to increase the number of iterations. Duality gap: 8248387.6137469215, tolerance: 3898.6869563806586\n",
      "  model = cd_fast.enet_coordinate_descent(\n",
      "C:\\Users\\ADMIN\\anaconda3\\lib\\site-packages\\sklearn\\linear_model\\_coordinate_descent.py:530: ConvergenceWarning: Objective did not converge. You might want to increase the number of iterations. Duality gap: 8248215.191106174, tolerance: 3898.6869563806586\n",
      "  model = cd_fast.enet_coordinate_descent(\n",
      "C:\\Users\\ADMIN\\anaconda3\\lib\\site-packages\\sklearn\\linear_model\\_coordinate_descent.py:530: ConvergenceWarning: Objective did not converge. You might want to increase the number of iterations. Duality gap: 8248083.606041498, tolerance: 3898.6869563806586\n",
      "  model = cd_fast.enet_coordinate_descent(\n",
      "C:\\Users\\ADMIN\\anaconda3\\lib\\site-packages\\sklearn\\linear_model\\_coordinate_descent.py:530: ConvergenceWarning: Objective did not converge. You might want to increase the number of iterations. Duality gap: 8247983.409284997, tolerance: 3898.6869563806586\n",
      "  model = cd_fast.enet_coordinate_descent(\n",
      "C:\\Users\\ADMIN\\anaconda3\\lib\\site-packages\\sklearn\\linear_model\\_coordinate_descent.py:530: ConvergenceWarning: Objective did not converge. You might want to increase the number of iterations. Duality gap: 8247907.23483463, tolerance: 3898.6869563806586\n",
      "  model = cd_fast.enet_coordinate_descent(\n",
      "C:\\Users\\ADMIN\\anaconda3\\lib\\site-packages\\sklearn\\linear_model\\_coordinate_descent.py:530: ConvergenceWarning: Objective did not converge. You might want to increase the number of iterations. Duality gap: 8247849.39709081, tolerance: 3898.6869563806586\n",
      "  model = cd_fast.enet_coordinate_descent(\n",
      "C:\\Users\\ADMIN\\anaconda3\\lib\\site-packages\\sklearn\\linear_model\\_coordinate_descent.py:530: ConvergenceWarning: Objective did not converge. You might want to increase the number of iterations. Duality gap: 8247805.522216813, tolerance: 3898.6869563806586\n",
      "  model = cd_fast.enet_coordinate_descent(\n",
      "C:\\Users\\ADMIN\\anaconda3\\lib\\site-packages\\sklearn\\linear_model\\_coordinate_descent.py:530: ConvergenceWarning: Objective did not converge. You might want to increase the number of iterations. Duality gap: 8247772.261812291, tolerance: 3898.6869563806586\n",
      "  model = cd_fast.enet_coordinate_descent(\n",
      "C:\\Users\\ADMIN\\anaconda3\\lib\\site-packages\\sklearn\\linear_model\\_coordinate_descent.py:530: ConvergenceWarning: Objective did not converge. You might want to increase the number of iterations. Duality gap: 8247747.060921419, tolerance: 3898.6869563806586\n",
      "  model = cd_fast.enet_coordinate_descent(\n"
     ]
    },
    {
     "data": {
      "image/png": "[encoded data removed]",
      "text/plain": [
       "<Figure size 432x288 with 1 Axes>"
      ]
     },
     "metadata": {
      "needs_background": "light"
     },
     "output_type": "display_data"
    }
   ],
   "source": [
    "lasso = Lasso()\n",
    "import matplotlib.pyplot as plt\n",
    "lambdalar = 10**np.linspace(10,-2,100)*0.5\n",
    "katsayilar = []\n",
    "for i in lambdalar:\n",
    "    lasso.set_params(alpha = i)\n",
    "    lasso.fit(X_train,y_train)\n",
    "    katsayilar.append(lasso.coef_)\n",
    "\n",
    "ax = plt.gca()\n",
    "ax.plot(lambdalar*2,katsayilar)\n",
    "ax.set_xscale(\"log\")\n",
    "\n",
    "plt.xlabel(\"tight\")\n",
    "plt.ylabel(\"alpha\")\n",
    "plt.title(\"weights\");"
   ]
  },
  {
   "cell_type": "markdown",
   "id": "310d63c2-810b-4b66-925f-24460e18dcab",
   "metadata": {},
   "source": [
    "# Tahmin"
   ]
  },
  {
   "cell_type": "code",
   "execution_count": 9,
   "id": "b05105b7-bfa2-4c54-b44c-4ef9be4193cb",
   "metadata": {},
   "outputs": [
    {
     "data": {
      "text/plain": [
       "356.8330124299743"
      ]
     },
     "execution_count": 9,
     "metadata": {},
     "output_type": "execute_result"
    }
   ],
   "source": [
    "from sklearn.metrics import mean_squared_error, r2_score\n",
    "y_pred = lasso.predict(X_test)\n",
    "np.sqrt(mean_squared_error(y_test,y_pred))"
   ]
  },
  {
   "cell_type": "markdown",
   "id": "36d3ef34-974c-47e2-8d6d-ab407a06986d",
   "metadata": {},
   "source": [
    "# Model Tunnig"
   ]
  },
  {
   "cell_type": "code",
   "execution_count": 10,
   "id": "cee9022f-0a7d-43d7-a310-969099e80958",
   "metadata": {},
   "outputs": [],
   "source": [
    "from sklearn.linear_model import LassoCV"
   ]
  },
  {
   "cell_type": "code",
   "execution_count": 11,
   "id": "5abda7ec-523b-4b80-a837-9ed7ac958d9f",
   "metadata": {},
   "outputs": [],
   "source": [
    "lasso_model = LassoCV(alphas = None,cv = 10,max_iter = 10000,normalize = True)"
   ]
  },
  {
   "cell_type": "code",
   "execution_count": 13,
   "id": "a3f6f2f7-8f1e-4f87-83cf-bdba54b03a2e",
   "metadata": {},
   "outputs": [
    {
     "data": {
      "text/plain": [
       "LassoCV(cv=10, max_iter=10000, normalize=True)"
      ]
     },
     "execution_count": 13,
     "metadata": {},
     "output_type": "execute_result"
    }
   ],
   "source": [
    "lasso_model.fit(X_train,y_train)"
   ]
  },
  {
   "cell_type": "code",
   "execution_count": 14,
   "id": "7afff766-bff9-4d10-8e46-598f0f2f5a42",
   "metadata": {},
   "outputs": [
    {
     "data": {
      "text/plain": [
       "0.3940612643247005"
      ]
     },
     "execution_count": 14,
     "metadata": {},
     "output_type": "execute_result"
    }
   ],
   "source": [
    "lasso_model.alpha_"
   ]
  },
  {
   "cell_type": "code",
   "execution_count": 15,
   "id": "550ece72-99e3-45bf-9a36-5b0b4feea487",
   "metadata": {},
   "outputs": [],
   "source": [
    "lasso_tuned = Lasso(alpha = lasso_model.alpha_)"
   ]
  },
  {
   "cell_type": "code",
   "execution_count": 16,
   "id": "0181979f-5798-43c8-bc87-d8aea4b83457",
   "metadata": {},
   "outputs": [
    {
     "name": "stderr",
     "output_type": "stream",
     "text": [
      "C:\\Users\\ADMIN\\anaconda3\\lib\\site-packages\\sklearn\\linear_model\\_coordinate_descent.py:530: ConvergenceWarning: Objective did not converge. You might want to increase the number of iterations. Duality gap: 8252823.943523987, tolerance: 3898.6869563806586\n",
      "  model = cd_fast.enet_coordinate_descent(\n"
     ]
    },
    {
     "data": {
      "text/plain": [
       "Lasso(alpha=0.3940612643247005)"
      ]
     },
     "execution_count": 16,
     "metadata": {},
     "output_type": "execute_result"
    }
   ],
   "source": [
    "lasso_tuned.fit(X_train,y_train)"
   ]
  },
  {
   "cell_type": "code",
   "execution_count": 17,
   "id": "f15f757f-6823-4863-b5d6-1e15f4f3478b",
   "metadata": {},
   "outputs": [],
   "source": [
    "y_pred = lasso_tuned.predict(X_test)"
   ]
  },
  {
   "cell_type": "code",
   "execution_count": 19,
   "id": "50a90bc2-9238-4dd7-9d0c-7a25004864ed",
   "metadata": {},
   "outputs": [
    {
     "data": {
      "text/plain": [
       "356.52263769583675"
      ]
     },
     "execution_count": 19,
     "metadata": {},
     "output_type": "execute_result"
    }
   ],
   "source": [
    "np.sqrt(mean_squared_error(y_test,y_pred))"
   ]
  },
  {
   "cell_type": "code",
   "execution_count": null,
   "id": "d3f904af-8d98-44f8-9abb-bdc100fc93ea",
   "metadata": {},
   "outputs": [],
   "source": []
  }
 ],
 "metadata": {
  "kernelspec": {
   "display_name": "Python 3",
   "language": "python",
   "name": "python3"
  },
  "language_info": {
   "codemirror_mode": {
    "name": "ipython",
    "version": 3
   },
   "file_extension": ".py",
   "mimetype": "text/x-python",
   "name": "python",
   "nbconvert_exporter": "python",
   "pygments_lexer": "ipython3",
   "version": "3.8.8"
  }
 },
 "nbformat": 4,
 "nbformat_minor": 5
}
