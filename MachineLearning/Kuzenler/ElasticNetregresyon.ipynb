{
 "cells": [
  {
   "cell_type": "markdown",
   "id": "5ba879d1-dd64-40de-bca3-de4384744f1b",
   "metadata": {},
   "source": [
    "# Model"
   ]
  },
  {
   "cell_type": "code",
   "execution_count": 1,
   "id": "a5de4eaf-0539-47d1-be81-9043d70efab1",
   "metadata": {},
   "outputs": [],
   "source": [
    "import numpy as np\n",
    "import pandas as pd\n",
    "from sklearn.model_selection import train_test_split, cross_val_score, cross_val_predict\n",
    "hit = pd.read_csv(\"Hitters.csv\")\n",
    "df = hit.copy()\n",
    "df = df.dropna()\n",
    "dms = pd.get_dummies(df[[\"League\",\"Division\",\"NewLeague\"]])\n",
    "y = df[\"Salary\"]\n",
    "X_ = df.drop([\"Salary\",\"League\",\"Division\",\"NewLeague\"],axis = 1).astype(\"float64\")\n",
    "X = pd.concat([X_,dms[[\"League_N\",\"Division_W\",\"NewLeague_N\"]]],axis = 1)\n",
    "X_train,X_test,y_train,y_test = train_test_split(X,y,test_size = 0.25,random_state = 42)"
   ]
  },
  {
   "cell_type": "code",
   "execution_count": 2,
   "id": "5d84ca7f-4e37-460c-8f56-c6950f09eb88",
   "metadata": {},
   "outputs": [],
   "source": [
    "from sklearn.linear_model import ElasticNet"
   ]
  },
  {
   "cell_type": "code",
   "execution_count": 3,
   "id": "7b823ae9-4939-4089-8855-37b7565d79df",
   "metadata": {},
   "outputs": [
    {
     "name": "stderr",
     "output_type": "stream",
     "text": [
      "C:\\Users\\ADMIN\\anaconda3\\lib\\site-packages\\sklearn\\linear_model\\_coordinate_descent.py:530: ConvergenceWarning: Objective did not converge. You might want to increase the number of iterations. Duality gap: 8487984.799367316, tolerance: 3898.6869563806586\n",
      "  model = cd_fast.enet_coordinate_descent(\n"
     ]
    }
   ],
   "source": [
    "enet_model = ElasticNet().fit(X_train,y_train)"
   ]
  },
  {
   "cell_type": "code",
   "execution_count": 4,
   "id": "63cedf02-6ae3-4e62-a51c-2cef0cc4e507",
   "metadata": {},
   "outputs": [
    {
     "data": {
      "text/plain": [
       "array([ -1.86256172,   8.70489065,   5.10426375,  -2.89875799,\n",
       "        -1.28642985,   5.24343682,   6.04480276,  -0.14701495,\n",
       "        -0.21566628,  -0.7897201 ,   1.80813117,   0.80914508,\n",
       "        -0.61262382,   0.26816203,   0.27172387,  -0.36530729,\n",
       "        19.2186222 , -31.16586592,   8.98369938])"
      ]
     },
     "execution_count": 4,
     "metadata": {},
     "output_type": "execute_result"
    }
   ],
   "source": [
    "enet_model.coef_"
   ]
  },
  {
   "cell_type": "code",
   "execution_count": 6,
   "id": "c5b73505-e9a0-4547-8601-2714b12391c0",
   "metadata": {},
   "outputs": [
    {
     "data": {
      "text/plain": [
       "-6.465955602112331"
      ]
     },
     "execution_count": 6,
     "metadata": {},
     "output_type": "execute_result"
    }
   ],
   "source": [
    "enet_model.intercept_"
   ]
  },
  {
   "cell_type": "markdown",
   "id": "e74d56d4-e849-4e4b-b063-a06757213409",
   "metadata": {},
   "source": [
    "# Tahmin"
   ]
  },
  {
   "cell_type": "code",
   "execution_count": 7,
   "id": "058b1a85-845f-45e2-82c4-4e5c32d19aff",
   "metadata": {},
   "outputs": [],
   "source": [
    "from sklearn.metrics import mean_squared_error, r2_score\n"
   ]
  },
  {
   "cell_type": "code",
   "execution_count": 9,
   "id": "6b412567-13d2-4f57-b6ba-1a776d51d0d1",
   "metadata": {},
   "outputs": [],
   "source": [
    "y_pred = enet_model.predict(X_test)"
   ]
  },
  {
   "cell_type": "code",
   "execution_count": 10,
   "id": "7ea7ff7e-640a-47cd-b632-00a96d8072c9",
   "metadata": {},
   "outputs": [
    {
     "data": {
      "text/plain": [
       "357.1676548181246"
      ]
     },
     "execution_count": 10,
     "metadata": {},
     "output_type": "execute_result"
    }
   ],
   "source": [
    "np.sqrt(mean_squared_error(y_test,y_pred))"
   ]
  },
  {
   "cell_type": "code",
   "execution_count": 11,
   "id": "8a51fe94-1929-499b-b9f5-3787fa25d94a",
   "metadata": {},
   "outputs": [
    {
     "data": {
      "text/plain": [
       "0.41070222469326867"
      ]
     },
     "execution_count": 11,
     "metadata": {},
     "output_type": "execute_result"
    }
   ],
   "source": [
    "r2_score(y_test,y_pred)"
   ]
  },
  {
   "cell_type": "markdown",
   "id": "7e6a635c-68da-4aab-8d34-6efa27bdd1b1",
   "metadata": {},
   "source": [
    "# Model Tuning"
   ]
  },
  {
   "cell_type": "code",
   "execution_count": 12,
   "id": "1ac791da-2d3a-4db5-9488-3bfefba54041",
   "metadata": {},
   "outputs": [],
   "source": [
    "from sklearn.linear_model import ElasticNetCV"
   ]
  },
  {
   "cell_type": "code",
   "execution_count": 13,
   "id": "f15d0149-82e9-4834-a3b6-6cf7fcb84190",
   "metadata": {},
   "outputs": [],
   "source": [
    "enet_cv_model = ElasticNetCV(cv = 10,random_state = 0).fit(X_train,y_train)"
   ]
  },
  {
   "cell_type": "code",
   "execution_count": 14,
   "id": "423bb6f1-fe47-4033-9e41-41433bdfa4a8",
   "metadata": {},
   "outputs": [
    {
     "data": {
      "text/plain": [
       "5230.7647364798695"
      ]
     },
     "execution_count": 14,
     "metadata": {},
     "output_type": "execute_result"
    }
   ],
   "source": [
    "enet_cv_model.alpha_"
   ]
  },
  {
   "cell_type": "code",
   "execution_count": 15,
   "id": "36ffec9e-e8a9-4144-a485-0bf4b3c13cd1",
   "metadata": {},
   "outputs": [],
   "source": [
    "enet_tuned = ElasticNet(alpha = enet_cv_model.alpha_).fit(X_train,y_train)"
   ]
  },
  {
   "cell_type": "code",
   "execution_count": 16,
   "id": "88af446f-795f-4706-902b-a3cd3c963a3f",
   "metadata": {},
   "outputs": [],
   "source": [
    "y_pred = enet_tuned.predict(X_test)"
   ]
  },
  {
   "cell_type": "code",
   "execution_count": 17,
   "id": "f7390493-dead-44a6-8261-bc7d0ecf5d0b",
   "metadata": {},
   "outputs": [
    {
     "data": {
      "text/plain": [
       "394.15280563218795"
      ]
     },
     "execution_count": 17,
     "metadata": {},
     "output_type": "execute_result"
    }
   ],
   "source": [
    "np.sqrt(mean_squared_error(y_test,y_pred))"
   ]
  },
  {
   "cell_type": "code",
   "execution_count": null,
   "id": "727e3fe0-e2b9-4991-bbd0-b694eeaae43c",
   "metadata": {},
   "outputs": [],
   "source": []
  }
 ],
 "metadata": {
  "kernelspec": {
   "display_name": "Python 3",
   "language": "python",
   "name": "python3"
  },
  "language_info": {
   "codemirror_mode": {
    "name": "ipython",
    "version": 3
   },
   "file_extension": ".py",
   "mimetype": "text/x-python",
   "name": "python",
   "nbconvert_exporter": "python",
   "pygments_lexer": "ipython3",
   "version": "3.8.8"
  }
 },
 "nbformat": 4,
 "nbformat_minor": 5
}
