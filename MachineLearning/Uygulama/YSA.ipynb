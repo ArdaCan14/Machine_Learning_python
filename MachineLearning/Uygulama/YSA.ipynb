{
 "cells": [
  {
   "cell_type": "code",
   "execution_count": 1,
   "id": "0c6522fe-c05e-45fc-b8e3-104d923c020a",
   "metadata": {},
   "outputs": [],
   "source": [
    "import numpy as np\n",
    "import pandas as pd \n",
    "import statsmodels.api as sm\n",
    "import statsmodels.formula.api as smf\n",
    "import seaborn as sns\n",
    "from sklearn.preprocessing import scale \n",
    "from sklearn.model_selection import train_test_split, GridSearchCV, cross_val_score\n",
    "from sklearn.metrics import confusion_matrix, accuracy_score, classification_report\n",
    "from sklearn.metrics import roc_auc_score,roc_curve\n",
    "import statsmodels.formula.api as smf\n",
    "import matplotlib.pyplot as plt\n",
    "from sklearn.neighbors import KNeighborsClassifier\n",
    "from sklearn.discriminant_analysis import LinearDiscriminantAnalysis\n",
    "from sklearn.linear_model import LogisticRegression\n",
    "from sklearn.svm import SVC\n",
    "from sklearn.naive_bayes import GaussianNB\n",
    "from sklearn import tree\n",
    "from sklearn.ensemble import RandomForestClassifier\n",
    "from sklearn.ensemble import GradientBoostingClassifier\n",
    "from xgboost import XGBClassifier\n",
    "from catboost import CatBoostClassifier\n",
    "\n",
    "from warnings import filterwarnings\n",
    "filterwarnings('ignore')"
   ]
  },
  {
   "cell_type": "code",
   "execution_count": 2,
   "id": "58893ec7-6279-465a-966a-c9c86f1eb4b0",
   "metadata": {},
   "outputs": [],
   "source": [
    "diabetes = pd.read_csv(\"diabetes.csv\")\n",
    "df = diabetes.copy()\n",
    "df = df.dropna()\n",
    "y = df[\"Outcome\"]\n",
    "X = df.drop([\"Outcome\"],axis = 1)\n",
    "X_train,X_test,y_train,y_test = train_test_split(X,y,test_size = 0.30,random_state = 42)"
   ]
  },
  {
   "cell_type": "code",
   "execution_count": 3,
   "id": "be7a310e-ee03-4455-9026-236071b0011d",
   "metadata": {},
   "outputs": [],
   "source": [
    "from sklearn.preprocessing import StandardScaler"
   ]
  },
  {
   "cell_type": "code",
   "execution_count": 4,
   "id": "4dbcb070-be9a-4959-a0a4-663183a65c85",
   "metadata": {},
   "outputs": [],
   "source": [
    "scaler = StandardScaler()"
   ]
  },
  {
   "cell_type": "code",
   "execution_count": 5,
   "id": "a71370aa-c0d5-4dbc-8f62-a5e608ed7771",
   "metadata": {},
   "outputs": [],
   "source": [
    "scaler.fit(X_train)\n",
    "X_train_scaled = scaler.transform(X_train)\n",
    "X_test_scaled = scaler.transform(X_test)"
   ]
  },
  {
   "cell_type": "code",
   "execution_count": 7,
   "id": "de5e4bef-4465-42fa-bf25-9e9654b3f3eb",
   "metadata": {},
   "outputs": [
    {
     "data": {
      "text/plain": [
       "array([[ 0.69748316, -0.70719864, -0.64639893,  0.81207927,  0.95720244,\n",
       "         0.26575953, -0.11680393,  0.85019217],\n",
       "       [-0.52953881, -0.27388818,  0.29399563,  0.74746428, -0.6936878 ,\n",
       "         0.488933  , -0.94192338, -1.03426754],\n",
       "       [-0.52953881, -0.39769117, -0.31449497, -1.3202154 , -0.6936878 ,\n",
       "        -0.1543317 , -0.91266382, -1.03426754],\n",
       "       [ 1.31099414, -0.42864191,  0.57058226, -1.3202154 , -0.6936878 ,\n",
       "        -0.96825847,  1.12965312,  0.07927683],\n",
       "       [ 1.00423865,  0.46892976,  1.12375553, -1.3202154 , -0.6936878 ,\n",
       "        -0.27248236, -0.76051413,  1.44979298]])"
      ]
     },
     "execution_count": 7,
     "metadata": {},
     "output_type": "execute_result"
    }
   ],
   "source": [
    "X_test_scaled[0:5]"
   ]
  },
  {
   "cell_type": "code",
   "execution_count": 9,
   "id": "ef6e1ea3-1fa2-424c-92c4-c64e29f85394",
   "metadata": {},
   "outputs": [],
   "source": [
    "from sklearn.neural_network import MLPClassifier"
   ]
  },
  {
   "cell_type": "code",
   "execution_count": 10,
   "id": "ef34ff45-166e-4671-90ad-c67b43a74e27",
   "metadata": {},
   "outputs": [],
   "source": [
    "mlpc = MLPClassifier().fit(X_train_scaled,y_train)"
   ]
  },
  {
   "cell_type": "code",
   "execution_count": 12,
   "id": "c5436355-8065-43a3-9234-1a0a0fd6a7a2",
   "metadata": {
    "collapsed": true,
    "jupyter": {
     "outputs_hidden": true
    },
    "tags": []
   },
   "outputs": [
    {
     "data": {
      "text/plain": [
       "['__abstractmethods__',\n",
       " '__class__',\n",
       " '__delattr__',\n",
       " '__dict__',\n",
       " '__dir__',\n",
       " '__doc__',\n",
       " '__eq__',\n",
       " '__format__',\n",
       " '__ge__',\n",
       " '__getattribute__',\n",
       " '__getstate__',\n",
       " '__gt__',\n",
       " '__hash__',\n",
       " '__init__',\n",
       " '__init_subclass__',\n",
       " '__le__',\n",
       " '__lt__',\n",
       " '__module__',\n",
       " '__ne__',\n",
       " '__new__',\n",
       " '__reduce__',\n",
       " '__reduce_ex__',\n",
       " '__repr__',\n",
       " '__setattr__',\n",
       " '__setstate__',\n",
       " '__sizeof__',\n",
       " '__str__',\n",
       " '__subclasshook__',\n",
       " '__weakref__',\n",
       " '_abc_impl',\n",
       " '_backprop',\n",
       " '_check_n_features',\n",
       " '_compute_loss_grad',\n",
       " '_estimator_type',\n",
       " '_fit',\n",
       " '_fit_lbfgs',\n",
       " '_fit_stochastic',\n",
       " '_forward_pass',\n",
       " '_forward_pass_fast',\n",
       " '_get_param_names',\n",
       " '_get_tags',\n",
       " '_init_coef',\n",
       " '_initialize',\n",
       " '_label_binarizer',\n",
       " '_loss_grad_lbfgs',\n",
       " '_more_tags',\n",
       " '_no_improvement_count',\n",
       " '_optimizer',\n",
       " '_partial_fit',\n",
       " '_random_state',\n",
       " '_repr_html_',\n",
       " '_repr_html_inner',\n",
       " '_repr_mimebundle_',\n",
       " '_unpack',\n",
       " '_update_no_improvement_count',\n",
       " '_validate_data',\n",
       " '_validate_hyperparameters',\n",
       " '_validate_input',\n",
       " 'activation',\n",
       " 'alpha',\n",
       " 'batch_size',\n",
       " 'best_loss_',\n",
       " 'beta_1',\n",
       " 'beta_2',\n",
       " 'classes_',\n",
       " 'coefs_',\n",
       " 'early_stopping',\n",
       " 'epsilon',\n",
       " 'fit',\n",
       " 'get_params',\n",
       " 'hidden_layer_sizes',\n",
       " 'intercepts_',\n",
       " 'learning_rate',\n",
       " 'learning_rate_init',\n",
       " 'loss',\n",
       " 'loss_',\n",
       " 'loss_curve_',\n",
       " 'max_fun',\n",
       " 'max_iter',\n",
       " 'momentum',\n",
       " 'n_features_in_',\n",
       " 'n_iter_',\n",
       " 'n_iter_no_change',\n",
       " 'n_layers_',\n",
       " 'n_outputs_',\n",
       " 'nesterovs_momentum',\n",
       " 'out_activation_',\n",
       " 'partial_fit',\n",
       " 'power_t',\n",
       " 'predict',\n",
       " 'predict_log_proba',\n",
       " 'predict_proba',\n",
       " 'random_state',\n",
       " 'score',\n",
       " 'set_params',\n",
       " 'shuffle',\n",
       " 'solver',\n",
       " 't_',\n",
       " 'tol',\n",
       " 'validation_fraction',\n",
       " 'verbose',\n",
       " 'warm_start']"
      ]
     },
     "execution_count": 12,
     "metadata": {},
     "output_type": "execute_result"
    }
   ],
   "source": [
    "dir(mlpc)"
   ]
  },
  {
   "cell_type": "code",
   "execution_count": 13,
   "id": "eee937be-fe19-4430-9b2f-499bfe6ab88d",
   "metadata": {},
   "outputs": [
    {
     "data": {
      "text/plain": [
       "0.7272727272727273"
      ]
     },
     "execution_count": 13,
     "metadata": {},
     "output_type": "execute_result"
    }
   ],
   "source": [
    "y_pred = mlpc.predict(X_test_scaled)\n",
    "accuracy_score(y_test,y_pred)"
   ]
  },
  {
   "cell_type": "markdown",
   "id": "e60e7b2a-d66a-4b43-a5a9-27443266b472",
   "metadata": {},
   "source": [
    "# Model Tuning"
   ]
  },
  {
   "cell_type": "code",
   "execution_count": 15,
   "id": "50ddc459-7093-49d5-9a8a-598e0126445e",
   "metadata": {
    "collapsed": true,
    "jupyter": {
     "outputs_hidden": true
    },
    "tags": []
   },
   "outputs": [
    {
     "data": {
      "text/plain": [
       "\u001b[1;31mType:\u001b[0m        MLPClassifier\n",
       "\u001b[1;31mString form:\u001b[0m MLPClassifier()\n",
       "\u001b[1;31mFile:\u001b[0m        c:\\users\\admin\\anaconda3\\lib\\site-packages\\sklearn\\neural_network\\_multilayer_perceptron.py\n",
       "\u001b[1;31mDocstring:\u001b[0m  \n",
       "Multi-layer Perceptron classifier.\n",
       "\n",
       "This model optimizes the log-loss function using LBFGS or stochastic\n",
       "gradient descent.\n",
       "\n",
       ".. versionadded:: 0.18\n",
       "\n",
       "Parameters\n",
       "----------\n",
       "hidden_layer_sizes : tuple, length = n_layers - 2, default=(100,)\n",
       "    The ith element represents the number of neurons in the ith\n",
       "    hidden layer.\n",
       "\n",
       "activation : {'identity', 'logistic', 'tanh', 'relu'}, default='relu'\n",
       "    Activation function for the hidden layer.\n",
       "\n",
       "    - 'identity', no-op activation, useful to implement linear bottleneck,\n",
       "      returns f(x) = x\n",
       "\n",
       "    - 'logistic', the logistic sigmoid function,\n",
       "      returns f(x) = 1 / (1 + exp(-x)).\n",
       "\n",
       "    - 'tanh', the hyperbolic tan function,\n",
       "      returns f(x) = tanh(x).\n",
       "\n",
       "    - 'relu', the rectified linear unit function,\n",
       "      returns f(x) = max(0, x)\n",
       "\n",
       "solver : {'lbfgs', 'sgd', 'adam'}, default='adam'\n",
       "    The solver for weight optimization.\n",
       "\n",
       "    - 'lbfgs' is an optimizer in the family of quasi-Newton methods.\n",
       "\n",
       "    - 'sgd' refers to stochastic gradient descent.\n",
       "\n",
       "    - 'adam' refers to a stochastic gradient-based optimizer proposed\n",
       "      by Kingma, Diederik, and Jimmy Ba\n",
       "\n",
       "    Note: The default solver 'adam' works pretty well on relatively\n",
       "    large datasets (with thousands of training samples or more) in terms of\n",
       "    both training time and validation score.\n",
       "    For small datasets, however, 'lbfgs' can converge faster and perform\n",
       "    better.\n",
       "\n",
       "alpha : float, default=0.0001\n",
       "    L2 penalty (regularization term) parameter.\n",
       "\n",
       "batch_size : int, default='auto'\n",
       "    Size of minibatches for stochastic optimizers.\n",
       "    If the solver is 'lbfgs', the classifier will not use minibatch.\n",
       "    When set to \"auto\", `batch_size=min(200, n_samples)`\n",
       "\n",
       "learning_rate : {'constant', 'invscaling', 'adaptive'}, default='constant'\n",
       "    Learning rate schedule for weight updates.\n",
       "\n",
       "    - 'constant' is a constant learning rate given by\n",
       "      'learning_rate_init'.\n",
       "\n",
       "    - 'invscaling' gradually decreases the learning rate at each\n",
       "      time step 't' using an inverse scaling exponent of 'power_t'.\n",
       "      effective_learning_rate = learning_rate_init / pow(t, power_t)\n",
       "\n",
       "    - 'adaptive' keeps the learning rate constant to\n",
       "      'learning_rate_init' as long as training loss keeps decreasing.\n",
       "      Each time two consecutive epochs fail to decrease training loss by at\n",
       "      least tol, or fail to increase validation score by at least tol if\n",
       "      'early_stopping' is on, the current learning rate is divided by 5.\n",
       "\n",
       "    Only used when ``solver='sgd'``.\n",
       "\n",
       "learning_rate_init : double, default=0.001\n",
       "    The initial learning rate used. It controls the step-size\n",
       "    in updating the weights. Only used when solver='sgd' or 'adam'.\n",
       "\n",
       "power_t : double, default=0.5\n",
       "    The exponent for inverse scaling learning rate.\n",
       "    It is used in updating effective learning rate when the learning_rate\n",
       "    is set to 'invscaling'. Only used when solver='sgd'.\n",
       "\n",
       "max_iter : int, default=200\n",
       "    Maximum number of iterations. The solver iterates until convergence\n",
       "    (determined by 'tol') or this number of iterations. For stochastic\n",
       "    solvers ('sgd', 'adam'), note that this determines the number of epochs\n",
       "    (how many times each data point will be used), not the number of\n",
       "    gradient steps.\n",
       "\n",
       "shuffle : bool, default=True\n",
       "    Whether to shuffle samples in each iteration. Only used when\n",
       "    solver='sgd' or 'adam'.\n",
       "\n",
       "random_state : int, RandomState instance, default=None\n",
       "    Determines random number generation for weights and bias\n",
       "    initialization, train-test split if early stopping is used, and batch\n",
       "    sampling when solver='sgd' or 'adam'.\n",
       "    Pass an int for reproducible results across multiple function calls.\n",
       "    See :term:`Glossary <random_state>`.\n",
       "\n",
       "tol : float, default=1e-4\n",
       "    Tolerance for the optimization. When the loss or score is not improving\n",
       "    by at least ``tol`` for ``n_iter_no_change`` consecutive iterations,\n",
       "    unless ``learning_rate`` is set to 'adaptive', convergence is\n",
       "    considered to be reached and training stops.\n",
       "\n",
       "verbose : bool, default=False\n",
       "    Whether to print progress messages to stdout.\n",
       "\n",
       "warm_start : bool, default=False\n",
       "    When set to True, reuse the solution of the previous\n",
       "    call to fit as initialization, otherwise, just erase the\n",
       "    previous solution. See :term:`the Glossary <warm_start>`.\n",
       "\n",
       "momentum : float, default=0.9\n",
       "    Momentum for gradient descent update. Should be between 0 and 1. Only\n",
       "    used when solver='sgd'.\n",
       "\n",
       "nesterovs_momentum : bool, default=True\n",
       "    Whether to use Nesterov's momentum. Only used when solver='sgd' and\n",
       "    momentum > 0.\n",
       "\n",
       "early_stopping : bool, default=False\n",
       "    Whether to use early stopping to terminate training when validation\n",
       "    score is not improving. If set to true, it will automatically set\n",
       "    aside 10% of training data as validation and terminate training when\n",
       "    validation score is not improving by at least tol for\n",
       "    ``n_iter_no_change`` consecutive epochs. The split is stratified,\n",
       "    except in a multilabel setting.\n",
       "    Only effective when solver='sgd' or 'adam'\n",
       "\n",
       "validation_fraction : float, default=0.1\n",
       "    The proportion of training data to set aside as validation set for\n",
       "    early stopping. Must be between 0 and 1.\n",
       "    Only used if early_stopping is True\n",
       "\n",
       "beta_1 : float, default=0.9\n",
       "    Exponential decay rate for estimates of first moment vector in adam,\n",
       "    should be in [0, 1). Only used when solver='adam'\n",
       "\n",
       "beta_2 : float, default=0.999\n",
       "    Exponential decay rate for estimates of second moment vector in adam,\n",
       "    should be in [0, 1). Only used when solver='adam'\n",
       "\n",
       "epsilon : float, default=1e-8\n",
       "    Value for numerical stability in adam. Only used when solver='adam'\n",
       "\n",
       "n_iter_no_change : int, default=10\n",
       "    Maximum number of epochs to not meet ``tol`` improvement.\n",
       "    Only effective when solver='sgd' or 'adam'\n",
       "\n",
       "    .. versionadded:: 0.20\n",
       "\n",
       "max_fun : int, default=15000\n",
       "    Only used when solver='lbfgs'. Maximum number of loss function calls.\n",
       "    The solver iterates until convergence (determined by 'tol'), number\n",
       "    of iterations reaches max_iter, or this number of loss function calls.\n",
       "    Note that number of loss function calls will be greater than or equal\n",
       "    to the number of iterations for the `MLPClassifier`.\n",
       "\n",
       "    .. versionadded:: 0.22\n",
       "\n",
       "Attributes\n",
       "----------\n",
       "classes_ : ndarray or list of ndarray of shape (n_classes,)\n",
       "    Class labels for each output.\n",
       "\n",
       "loss_ : float\n",
       "    The current loss computed with the loss function.\n",
       "\n",
       "best_loss_ : float\n",
       "    The minimum loss reached by the solver throughout fitting.\n",
       "\n",
       "loss_curve_ : list of shape (`n_iter_`,)\n",
       "    The ith element in the list represents the loss at the ith iteration.\n",
       "\n",
       "t_ : int\n",
       "    The number of training samples seen by the solver during fitting.\n",
       "\n",
       "coefs_ : list of shape (n_layers - 1,)\n",
       "    The ith element in the list represents the weight matrix corresponding\n",
       "    to layer i.\n",
       "\n",
       "intercepts_ : list of shape (n_layers - 1,)\n",
       "    The ith element in the list represents the bias vector corresponding to\n",
       "    layer i + 1.\n",
       "\n",
       "n_iter_ : int\n",
       "    The number of iterations the solver has ran.\n",
       "\n",
       "n_layers_ : int\n",
       "    Number of layers.\n",
       "\n",
       "n_outputs_ : int\n",
       "    Number of outputs.\n",
       "\n",
       "out_activation_ : str\n",
       "    Name of the output activation function.\n",
       "\n",
       "Examples\n",
       "--------\n",
       ">>> from sklearn.neural_network import MLPClassifier\n",
       ">>> from sklearn.datasets import make_classification\n",
       ">>> from sklearn.model_selection import train_test_split\n",
       ">>> X, y = make_classification(n_samples=100, random_state=1)\n",
       ">>> X_train, X_test, y_train, y_test = train_test_split(X, y, stratify=y,\n",
       "...                                                     random_state=1)\n",
       ">>> clf = MLPClassifier(random_state=1, max_iter=300).fit(X_train, y_train)\n",
       ">>> clf.predict_proba(X_test[:1])\n",
       "array([[0.038..., 0.961...]])\n",
       ">>> clf.predict(X_test[:5, :])\n",
       "array([1, 0, 1, 0, 1])\n",
       ">>> clf.score(X_test, y_test)\n",
       "0.8...\n",
       "\n",
       "Notes\n",
       "-----\n",
       "MLPClassifier trains iteratively since at each time step\n",
       "the partial derivatives of the loss function with respect to the model\n",
       "parameters are computed to update the parameters.\n",
       "\n",
       "It can also have a regularization term added to the loss function\n",
       "that shrinks model parameters to prevent overfitting.\n",
       "\n",
       "This implementation works with data represented as dense numpy arrays or\n",
       "sparse scipy arrays of floating point values.\n",
       "\n",
       "References\n",
       "----------\n",
       "Hinton, Geoffrey E.\n",
       "    \"Connectionist learning procedures.\" Artificial intelligence 40.1\n",
       "    (1989): 185-234.\n",
       "\n",
       "Glorot, Xavier, and Yoshua Bengio. \"Understanding the difficulty of\n",
       "    training deep feedforward neural networks.\" International Conference\n",
       "    on Artificial Intelligence and Statistics. 2010.\n",
       "\n",
       "He, Kaiming, et al. \"Delving deep into rectifiers: Surpassing human-level\n",
       "    performance on imagenet classification.\" arXiv preprint\n",
       "    arXiv:1502.01852 (2015).\n",
       "\n",
       "Kingma, Diederik, and Jimmy Ba. \"Adam: A method for stochastic\n",
       "    optimization.\" arXiv preprint arXiv:1412.6980 (2014).\n"
      ]
     },
     "metadata": {},
     "output_type": "display_data"
    }
   ],
   "source": [
    "?mlpc"
   ]
  },
  {
   "cell_type": "code",
   "execution_count": 18,
   "id": "7d0d0cf2-cbb6-4972-a426-da98462c0452",
   "metadata": {},
   "outputs": [],
   "source": [
    "mlpc_params = {\"alpha\":[0.1,0.01,0.02,0.005,0.0001,0.00001],\n",
    "              \"hidden_layer_sizes\":[(10,10,10),(100,100,100),(100,100),(3,5),(5,3)],\n",
    "              \"solver\":[\"lbfgs\",\"adam\",\"sgd\"],\n",
    "              \"activation\":[\"relu\",\"logistic\"]}"
   ]
  },
  {
   "cell_type": "code",
   "execution_count": 21,
   "id": "e20ca5be-c11b-40bb-a115-ac5caad260ae",
   "metadata": {},
   "outputs": [
    {
     "name": "stdout",
     "output_type": "stream",
     "text": [
      "Fitting 10 folds for each of 180 candidates, totalling 1800 fits\n"
     ]
    },
    {
     "data": {
      "text/plain": [
       "GridSearchCV(cv=10, estimator=MLPClassifier(), n_jobs=-1,\n",
       "             param_grid={'activation': ['relu', 'logistic'],\n",
       "                         'alpha': [0.1, 0.01, 0.02, 0.005, 0.0001, 1e-05],\n",
       "                         'hidden_layer_sizes': [(10, 10, 10), (100, 100, 100),\n",
       "                                                (100, 100), (3, 5), (5, 3)],\n",
       "                         'solver': ['lbfgs', 'adam', 'sgd']},\n",
       "             verbose=2)"
      ]
     },
     "execution_count": 21,
     "metadata": {},
     "output_type": "execute_result"
    }
   ],
   "source": [
    "mlpc = MLPClassifier()\n",
    "mlpc_cv_model = GridSearchCV(mlpc,mlpc_params,cv = 10,n_jobs = -1,verbose = 2)\n",
    "mlpc_cv_model.fit(X_train_scaled,y_train)"
   ]
  },
  {
   "cell_type": "code",
   "execution_count": 24,
   "id": "6f54caf6-2d0c-4ced-9d9a-d86c2a7b382f",
   "metadata": {},
   "outputs": [
    {
     "name": "stdout",
     "output_type": "stream",
     "text": [
      "Best parametres :  {'activation': 'logistic', 'alpha': 0.1, 'hidden_layer_sizes': (100, 100), 'solver': 'adam'}\n"
     ]
    }
   ],
   "source": [
    "print(\"Best parametres : \",mlpc_cv_model.best_params_)"
   ]
  },
  {
   "cell_type": "code",
   "execution_count": 29,
   "id": "85da3336-b796-460a-971e-b319bc7874c0",
   "metadata": {},
   "outputs": [],
   "source": [
    "mlpc_tuned = MLPClassifier(activation = \"logistic\",alpha = 0.1,hidden_layer_sizes = (100,100),solver = \"adam\")"
   ]
  },
  {
   "cell_type": "code",
   "execution_count": 30,
   "id": "2234bd7a-4001-42b7-b2ea-9b5ccaf6254e",
   "metadata": {},
   "outputs": [
    {
     "data": {
      "text/plain": [
       "MLPClassifier(activation='logistic', alpha=0.1, hidden_layer_sizes=(100, 100))"
      ]
     },
     "execution_count": 30,
     "metadata": {},
     "output_type": "execute_result"
    }
   ],
   "source": [
    "mlpc_tuned.fit(X_train_scaled,y_train)"
   ]
  },
  {
   "cell_type": "code",
   "execution_count": 31,
   "id": "c0dd50b5-8284-4a67-a1f8-744be0e6690a",
   "metadata": {},
   "outputs": [
    {
     "data": {
      "text/plain": [
       "0.7272727272727273"
      ]
     },
     "execution_count": 31,
     "metadata": {},
     "output_type": "execute_result"
    }
   ],
   "source": [
    "y_pred = mlpc_tuned.predict(X_test_scaled)\n",
    "accuracy_score(y_test,y_pred)"
   ]
  },
  {
   "cell_type": "code",
   "execution_count": null,
   "id": "5931aa2a-2722-4544-affa-71da6bdebde1",
   "metadata": {},
   "outputs": [],
   "source": []
  }
 ],
 "metadata": {
  "kernelspec": {
   "display_name": "Python 3",
   "language": "python",
   "name": "python3"
  },
  "language_info": {
   "codemirror_mode": {
    "name": "ipython",
    "version": 3
   },
   "file_extension": ".py",
   "mimetype": "text/x-python",
   "name": "python",
   "nbconvert_exporter": "python",
   "pygments_lexer": "ipython3",
   "version": "3.8.8"
  }
 },
 "nbformat": 4,
 "nbformat_minor": 5
}
